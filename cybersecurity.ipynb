{
 "cells": [
  {
   "cell_type": "code",
   "execution_count": 15,
   "id": "386255dd",
   "metadata": {},
   "outputs": [
    {
     "name": "stdout",
     "output_type": "stream",
     "text": [
      "Unfiltered UNSW_NB15_test-set.csv dataframe shape: (82332, 45)\n",
      "Unfiltered UNSW_NB15_training-set.csv dataframe shape: (175341, 45)\n",
      "\n",
      " Columns in both files are the same! \n",
      "\n",
      "Filtered UNSW_NB15_test-set.csv dataframe shape: (82332, 45)\n",
      "Filtered UNSW_NB15_training-set.csv dataframe shape: (175341, 45)\n"
     ]
    }
   ],
   "source": [
    "import tensorflow as tf\n",
    "import pandas as pd\n",
    "import os\n",
    "\n",
    "'''\n",
    "Checking for same column names\n",
    "'''\n",
    "\n",
    "test_file = 'UNSW_NB15_test-set.csv'\n",
    "train_file = 'UNSW_NB15_training-set.csv'\n",
    "\n",
    "test_df = pd.read_csv(os.path.join('data', test_file))\n",
    "train_df = pd.read_csv(os.path.join('data', train_file))\n",
    "print('Unfiltered ' + test_file + ' dataframe shape: ' + str(test_df.shape))\n",
    "print('Unfiltered ' + train_file + ' dataframe shape: ' + str(train_df.shape))\n",
    "\n",
    "# Find common columns between test and training datasets\n",
    "test_columns = set(test_df.columns)\n",
    "train_columns = set(train_df.columns)\n",
    "if test_columns == train_columns:\n",
    "    print('\\n Columns in both files are the same! \\n')\n",
    "\n",
    "common_columns = test_columns.intersection(train_columns)\n",
    "filtered_test_df = test_df[list(common_columns)]\n",
    "filtered_train_df = train_df[list(common_columns)]\n",
    "\n",
    "# Write the filtered dataframes back to CSV files\n",
    "filtered_test_df.to_csv(test_file, index=False)\n",
    "filtered_train_df.to_csv(train_file, index=False)\n",
    "\n",
    "test_df = pd.read_csv(os.path.join('data', test_file))\n",
    "train_df = pd.read_csv(os.path.join('data', train_file))\n",
    "print('Filtered ' + test_file + ' dataframe shape: ' + str(test_df.shape))\n",
    "print('Filtered ' + train_file + ' dataframe shape: ' + str(train_df.shape))\n"
   ]
  },
  {
   "cell_type": "code",
   "execution_count": 18,
   "id": "2943e9e0",
   "metadata": {},
   "outputs": [],
   "source": [
    "'''\n",
    "Remove all the records with categorical values that only appear in training and test data\n",
    "'''\n",
    "\n",
    "proto_values = None\n",
    "service_values = None\n",
    "state_values = None\n",
    "attack_cat = None\n",
    "categorical_columns = {'proto': proto_values, \n",
    "                       'service': service_values, \n",
    "                       'state': state_values, \n",
    "                       'attack_cat': attack_cat}\n",
    "\n",
    "for key in categorical_columns.keys():\n",
    "    test_values = set(test_df[key])\n",
    "    train_values = set(train_df[key])\n",
    "    categorical_columns[key] = test_values.intersection(train_values)\n",
    "\n",
    "\n",
    "\n",
    "\n",
    "\n"
   ]
  }
 ],
 "metadata": {
  "kernelspec": {
   "display_name": "cyber_venv",
   "language": "python",
   "name": "python3"
  },
  "language_info": {
   "codemirror_mode": {
    "name": "ipython",
    "version": 3
   },
   "file_extension": ".py",
   "mimetype": "text/x-python",
   "name": "python",
   "nbconvert_exporter": "python",
   "pygments_lexer": "ipython3",
   "version": "3.10.9"
  }
 },
 "nbformat": 4,
 "nbformat_minor": 5
}
